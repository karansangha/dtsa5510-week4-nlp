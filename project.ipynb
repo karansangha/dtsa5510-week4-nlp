{
 "cells": [
  {
   "cell_type": "markdown",
   "id": "7457c6cf",
   "metadata": {
    "papermill": {
     "duration": 0.007856,
     "end_time": "2022-09-28T00:38:22.005571",
     "exception": false,
     "start_time": "2022-09-28T00:38:21.997715",
     "status": "completed"
    },
    "tags": []
   },
   "source": [
    "# Disaster Tweets"
   ]
  },
  {
   "cell_type": "markdown",
   "id": "14fde6f7",
   "metadata": {
    "papermill": {
     "duration": 0.006618,
     "end_time": "2022-09-28T00:38:22.018844",
     "exception": false,
     "start_time": "2022-09-28T00:38:22.012226",
     "status": "completed"
    },
    "tags": []
   },
   "source": [
    "## Problem Statement\n",
    "\n",
    "* blah blah"
   ]
  },
  {
   "cell_type": "markdown",
   "id": "b8913d10",
   "metadata": {
    "papermill": {
     "duration": 0.006262,
     "end_time": "2022-09-28T00:38:22.032263",
     "exception": false,
     "start_time": "2022-09-28T00:38:22.026001",
     "status": "completed"
    },
    "tags": []
   },
   "source": [
    "## Exploratory Data Analysis"
   ]
  },
  {
   "cell_type": "code",
   "execution_count": 1,
   "id": "84379a5d",
   "metadata": {
    "execution": {
     "iopub.execute_input": "2022-09-28T00:38:22.050142Z",
     "iopub.status.busy": "2022-09-28T00:38:22.049670Z",
     "iopub.status.idle": "2022-09-28T00:38:25.117568Z",
     "shell.execute_reply": "2022-09-28T00:38:25.115075Z"
    },
    "papermill": {
     "duration": 3.083408,
     "end_time": "2022-09-28T00:38:25.123578",
     "exception": false,
     "start_time": "2022-09-28T00:38:22.040170",
     "status": "completed"
    },
    "tags": []
   },
   "outputs": [],
   "source": [
    "import numpy as np\n",
    "import pandas as pd \n",
    "import os \n",
    "\n",
    "import matplotlib.pyplot as plt\n",
    "import seaborn as sns\n",
    "import re\n",
    "from nltk.corpus import stopwords\n",
    "from nltk.stem.porter import PorterStemmer\n",
    "\n",
    "from warnings import filterwarnings\n",
    "filterwarnings('ignore')"
   ]
  },
  {
   "cell_type": "code",
   "execution_count": 2,
   "id": "815e8d92",
   "metadata": {
    "execution": {
     "iopub.execute_input": "2022-09-28T00:38:25.142347Z",
     "iopub.status.busy": "2022-09-28T00:38:25.141334Z",
     "iopub.status.idle": "2022-09-28T00:38:25.151919Z",
     "shell.execute_reply": "2022-09-28T00:38:25.150239Z"
    },
    "papermill": {
     "duration": 0.022646,
     "end_time": "2022-09-28T00:38:25.154599",
     "exception": false,
     "start_time": "2022-09-28T00:38:25.131953",
     "status": "completed"
    },
    "tags": []
   },
   "outputs": [
    {
     "name": "stdout",
     "output_type": "stream",
     "text": [
      "/kaggle/input/nlp-getting-started/sample_submission.csv\n",
      "/kaggle/input/nlp-getting-started/train.csv\n",
      "/kaggle/input/nlp-getting-started/test.csv\n"
     ]
    }
   ],
   "source": [
    "import os\n",
    "for dirname, _, filenames in os.walk('/kaggle/input'):\n",
    "    for filename in filenames:\n",
    "        print(os.path.join(dirname, filename))"
   ]
  },
  {
   "cell_type": "code",
   "execution_count": 3,
   "id": "f292c698",
   "metadata": {
    "execution": {
     "iopub.execute_input": "2022-09-28T00:38:25.173607Z",
     "iopub.status.busy": "2022-09-28T00:38:25.172563Z",
     "iopub.status.idle": "2022-09-28T00:38:25.236384Z",
     "shell.execute_reply": "2022-09-28T00:38:25.233449Z"
    },
    "papermill": {
     "duration": 0.080216,
     "end_time": "2022-09-28T00:38:25.242049",
     "exception": false,
     "start_time": "2022-09-28T00:38:25.161833",
     "status": "completed"
    },
    "tags": []
   },
   "outputs": [],
   "source": [
    "df_train=pd.read_csv(r\"/kaggle/input/nlp-getting-started/train.csv\")"
   ]
  },
  {
   "cell_type": "code",
   "execution_count": 4,
   "id": "a6cb5e21",
   "metadata": {
    "execution": {
     "iopub.execute_input": "2022-09-28T00:38:25.260549Z",
     "iopub.status.busy": "2022-09-28T00:38:25.259901Z",
     "iopub.status.idle": "2022-09-28T00:38:25.290274Z",
     "shell.execute_reply": "2022-09-28T00:38:25.287586Z"
    },
    "papermill": {
     "duration": 0.043203,
     "end_time": "2022-09-28T00:38:25.293485",
     "exception": false,
     "start_time": "2022-09-28T00:38:25.250282",
     "status": "completed"
    },
    "tags": []
   },
   "outputs": [
    {
     "data": {
      "text/html": [
       "<div>\n",
       "<style scoped>\n",
       "    .dataframe tbody tr th:only-of-type {\n",
       "        vertical-align: middle;\n",
       "    }\n",
       "\n",
       "    .dataframe tbody tr th {\n",
       "        vertical-align: top;\n",
       "    }\n",
       "\n",
       "    .dataframe thead th {\n",
       "        text-align: right;\n",
       "    }\n",
       "</style>\n",
       "<table border=\"1\" class=\"dataframe\">\n",
       "  <thead>\n",
       "    <tr style=\"text-align: right;\">\n",
       "      <th></th>\n",
       "      <th>id</th>\n",
       "      <th>keyword</th>\n",
       "      <th>location</th>\n",
       "      <th>text</th>\n",
       "      <th>target</th>\n",
       "    </tr>\n",
       "  </thead>\n",
       "  <tbody>\n",
       "    <tr>\n",
       "      <th>0</th>\n",
       "      <td>1</td>\n",
       "      <td>NaN</td>\n",
       "      <td>NaN</td>\n",
       "      <td>Our Deeds are the Reason of this #earthquake M...</td>\n",
       "      <td>1</td>\n",
       "    </tr>\n",
       "    <tr>\n",
       "      <th>1</th>\n",
       "      <td>4</td>\n",
       "      <td>NaN</td>\n",
       "      <td>NaN</td>\n",
       "      <td>Forest fire near La Ronge Sask. Canada</td>\n",
       "      <td>1</td>\n",
       "    </tr>\n",
       "    <tr>\n",
       "      <th>2</th>\n",
       "      <td>5</td>\n",
       "      <td>NaN</td>\n",
       "      <td>NaN</td>\n",
       "      <td>All residents asked to 'shelter in place' are ...</td>\n",
       "      <td>1</td>\n",
       "    </tr>\n",
       "    <tr>\n",
       "      <th>3</th>\n",
       "      <td>6</td>\n",
       "      <td>NaN</td>\n",
       "      <td>NaN</td>\n",
       "      <td>13,000 people receive #wildfires evacuation or...</td>\n",
       "      <td>1</td>\n",
       "    </tr>\n",
       "    <tr>\n",
       "      <th>4</th>\n",
       "      <td>7</td>\n",
       "      <td>NaN</td>\n",
       "      <td>NaN</td>\n",
       "      <td>Just got sent this photo from Ruby #Alaska as ...</td>\n",
       "      <td>1</td>\n",
       "    </tr>\n",
       "  </tbody>\n",
       "</table>\n",
       "</div>"
      ],
      "text/plain": [
       "   id keyword location                                               text  \\\n",
       "0   1     NaN      NaN  Our Deeds are the Reason of this #earthquake M...   \n",
       "1   4     NaN      NaN             Forest fire near La Ronge Sask. Canada   \n",
       "2   5     NaN      NaN  All residents asked to 'shelter in place' are ...   \n",
       "3   6     NaN      NaN  13,000 people receive #wildfires evacuation or...   \n",
       "4   7     NaN      NaN  Just got sent this photo from Ruby #Alaska as ...   \n",
       "\n",
       "   target  \n",
       "0       1  \n",
       "1       1  \n",
       "2       1  \n",
       "3       1  \n",
       "4       1  "
      ]
     },
     "execution_count": 4,
     "metadata": {},
     "output_type": "execute_result"
    }
   ],
   "source": [
    "df_train.head()"
   ]
  },
  {
   "cell_type": "code",
   "execution_count": 5,
   "id": "9d718ad3",
   "metadata": {
    "execution": {
     "iopub.execute_input": "2022-09-28T00:38:25.310800Z",
     "iopub.status.busy": "2022-09-28T00:38:25.310346Z",
     "iopub.status.idle": "2022-09-28T00:38:25.322143Z",
     "shell.execute_reply": "2022-09-28T00:38:25.319137Z"
    },
    "papermill": {
     "duration": 0.025122,
     "end_time": "2022-09-28T00:38:25.326394",
     "exception": false,
     "start_time": "2022-09-28T00:38:25.301272",
     "status": "completed"
    },
    "tags": []
   },
   "outputs": [
    {
     "data": {
      "text/plain": [
       "(7613, 5)"
      ]
     },
     "execution_count": 5,
     "metadata": {},
     "output_type": "execute_result"
    }
   ],
   "source": [
    "df_train.shape"
   ]
  },
  {
   "cell_type": "code",
   "execution_count": 6,
   "id": "5d31bec0",
   "metadata": {
    "execution": {
     "iopub.execute_input": "2022-09-28T00:38:25.343947Z",
     "iopub.status.busy": "2022-09-28T00:38:25.343485Z",
     "iopub.status.idle": "2022-09-28T00:38:25.378677Z",
     "shell.execute_reply": "2022-09-28T00:38:25.376248Z"
    },
    "papermill": {
     "duration": 0.048572,
     "end_time": "2022-09-28T00:38:25.382294",
     "exception": false,
     "start_time": "2022-09-28T00:38:25.333722",
     "status": "completed"
    },
    "tags": []
   },
   "outputs": [
    {
     "name": "stdout",
     "output_type": "stream",
     "text": [
      "<class 'pandas.core.frame.DataFrame'>\n",
      "RangeIndex: 7613 entries, 0 to 7612\n",
      "Data columns (total 5 columns):\n",
      " #   Column    Non-Null Count  Dtype \n",
      "---  ------    --------------  ----- \n",
      " 0   id        7613 non-null   int64 \n",
      " 1   keyword   7552 non-null   object\n",
      " 2   location  5080 non-null   object\n",
      " 3   text      7613 non-null   object\n",
      " 4   target    7613 non-null   int64 \n",
      "dtypes: int64(2), object(3)\n",
      "memory usage: 297.5+ KB\n"
     ]
    }
   ],
   "source": [
    "df_train.info()"
   ]
  },
  {
   "cell_type": "code",
   "execution_count": 7,
   "id": "cb80e5b0",
   "metadata": {
    "execution": {
     "iopub.execute_input": "2022-09-28T00:38:25.400496Z",
     "iopub.status.busy": "2022-09-28T00:38:25.399254Z",
     "iopub.status.idle": "2022-09-28T00:38:25.577017Z",
     "shell.execute_reply": "2022-09-28T00:38:25.576020Z"
    },
    "papermill": {
     "duration": 0.189458,
     "end_time": "2022-09-28T00:38:25.579565",
     "exception": false,
     "start_time": "2022-09-28T00:38:25.390107",
     "status": "completed"
    },
    "tags": []
   },
   "outputs": [
    {
     "data": {
      "image/png": "[encoded data removed]",
      "text/plain": [
       "<Figure size 576x576 with 1 Axes>"
      ]
     },
     "metadata": {},
     "output_type": "display_data"
    }
   ],
   "source": [
    "plt.figure(figsize=(8,8))\n",
    "colors = sns.color_palette('flare')\n",
    "plt.pie(x=df_train[\"target\"].value_counts().values,labels=[\"Not Disaster\", \"Disaster\"],autopct='%.0f%%', colors=colors)\n",
    "plt.title(\"Data Distribution\")\n",
    "plt.show()"
   ]
  },
  {
   "cell_type": "markdown",
   "id": "a1de1aa3",
   "metadata": {
    "papermill": {
     "duration": 0.011321,
     "end_time": "2022-09-28T00:38:25.603013",
     "exception": false,
     "start_time": "2022-09-28T00:38:25.591692",
     "status": "completed"
    },
    "tags": []
   },
   "source": [
    "* The data doesn't seem to be awfully misbalanced\n",
    "* Both of the classes have an _almost_ equal distribution. So we don't need to worry about creating a balanced dataset by either subsampling the data or some other data augmentation technique."
   ]
  },
  {
   "cell_type": "markdown",
   "id": "92e94c28",
   "metadata": {
    "execution": {
     "iopub.execute_input": "2022-09-27T23:20:55.852696Z",
     "iopub.status.busy": "2022-09-27T23:20:55.852254Z",
     "iopub.status.idle": "2022-09-27T23:20:55.881156Z",
     "shell.execute_reply": "2022-09-27T23:20:55.880143Z",
     "shell.execute_reply.started": "2022-09-27T23:20:55.852655Z"
    },
    "papermill": {
     "duration": 0.012051,
     "end_time": "2022-09-28T00:38:25.627292",
     "exception": false,
     "start_time": "2022-09-28T00:38:25.615241",
     "status": "completed"
    },
    "tags": []
   },
   "source": [
    "#### Missing values"
   ]
  },
  {
   "cell_type": "code",
   "execution_count": 8,
   "id": "cab62d53",
   "metadata": {
    "execution": {
     "iopub.execute_input": "2022-09-28T00:38:25.647816Z",
     "iopub.status.busy": "2022-09-28T00:38:25.647382Z",
     "iopub.status.idle": "2022-09-28T00:38:25.653538Z",
     "shell.execute_reply": "2022-09-28T00:38:25.652264Z"
    },
    "papermill": {
     "duration": 0.019593,
     "end_time": "2022-09-28T00:38:25.656886",
     "exception": false,
     "start_time": "2022-09-28T00:38:25.637293",
     "status": "completed"
    },
    "tags": []
   },
   "outputs": [
    {
     "name": "stdout",
     "output_type": "stream",
     "text": [
      "Object `?` not found.\n"
     ]
    }
   ],
   "source": [
    "???"
   ]
  },
  {
   "cell_type": "markdown",
   "id": "cff8932b",
   "metadata": {
    "papermill": {
     "duration": 0.007783,
     "end_time": "2022-09-28T00:38:25.673777",
     "exception": false,
     "start_time": "2022-09-28T00:38:25.665994",
     "status": "completed"
    },
    "tags": []
   },
   "source": [
    "#### Keywords"
   ]
  },
  {
   "cell_type": "code",
   "execution_count": 9,
   "id": "1c826232",
   "metadata": {
    "execution": {
     "iopub.execute_input": "2022-09-28T00:38:25.695152Z",
     "iopub.status.busy": "2022-09-28T00:38:25.694712Z",
     "iopub.status.idle": "2022-09-28T00:38:25.706065Z",
     "shell.execute_reply": "2022-09-28T00:38:25.703555Z"
    },
    "papermill": {
     "duration": 0.024667,
     "end_time": "2022-09-28T00:38:25.709362",
     "exception": false,
     "start_time": "2022-09-28T00:38:25.684695",
     "status": "completed"
    },
    "tags": []
   },
   "outputs": [
    {
     "data": {
      "text/plain": [
       "fatalities     45\n",
       "deluge         42\n",
       "armageddon     42\n",
       "sinking        41\n",
       "damage         41\n",
       "harm           41\n",
       "body%20bags    41\n",
       "outbreak       40\n",
       "evacuate       40\n",
       "fear           40\n",
       "Name: keyword, dtype: int64"
      ]
     },
     "execution_count": 9,
     "metadata": {},
     "output_type": "execute_result"
    }
   ],
   "source": [
    "keyword_distribution = df_train['keyword'].value_counts()\n",
    "keyword_distribution[:10]"
   ]
  },
  {
   "cell_type": "code",
   "execution_count": 10,
   "id": "f4ad1993",
   "metadata": {
    "execution": {
     "iopub.execute_input": "2022-09-28T00:38:25.728038Z",
     "iopub.status.busy": "2022-09-28T00:38:25.727607Z",
     "iopub.status.idle": "2022-09-28T00:38:26.108678Z",
     "shell.execute_reply": "2022-09-28T00:38:26.106187Z"
    },
    "papermill": {
     "duration": 0.394187,
     "end_time": "2022-09-28T00:38:26.111739",
     "exception": false,
     "start_time": "2022-09-28T00:38:25.717552",
     "status": "completed"
    },
    "tags": []
   },
   "outputs": [
    {
     "data": {
      "image/png": "[encoded data removed]",
      "text/plain": [
       "<Figure size 576x576 with 1 Axes>"
      ]
     },
     "metadata": {
      "needs_background": "light"
     },
     "output_type": "display_data"
    }
   ],
   "source": [
    "plt.figure(figsize=(8,8))\n",
    "\n",
    "top_20_keywords=df_train['keyword'].value_counts()[:20]\n",
    "ax = sns.barplot(y=top_20_keywords.index,x=top_20_keywords,palette='flare_r',data=df_train)\n",
    "for container in ax.containers:\n",
    "    ax.bar_label(container)\n",
    "plt.title('Top 20 Keywords in tweets',fontsize=15)\n",
    "plt.show()"
   ]
  },
  {
   "cell_type": "markdown",
   "id": "75760ac9",
   "metadata": {
    "papermill": {
     "duration": 0.008866,
     "end_time": "2022-09-28T00:38:26.128951",
     "exception": false,
     "start_time": "2022-09-28T00:38:26.120085",
     "status": "completed"
    },
    "tags": []
   },
   "source": [
    "#### Keywords - Disaster vs Not Disaster"
   ]
  },
  {
   "cell_type": "code",
   "execution_count": 11,
   "id": "0f69ba51",
   "metadata": {
    "execution": {
     "iopub.execute_input": "2022-09-28T00:38:26.150167Z",
     "iopub.status.busy": "2022-09-28T00:38:26.149765Z",
     "iopub.status.idle": "2022-09-28T00:38:26.164432Z",
     "shell.execute_reply": "2022-09-28T00:38:26.161457Z"
    },
    "papermill": {
     "duration": 0.029722,
     "end_time": "2022-09-28T00:38:26.167630",
     "exception": false,
     "start_time": "2022-09-28T00:38:26.137908",
     "status": "completed"
    },
    "tags": []
   },
   "outputs": [],
   "source": [
    "keywords_disaster = df_train.loc[df_train[\"target\"] == 1][\"keyword\"].value_counts()\n",
    "keywords_not_disaster = df_train.loc[df_train[\"target\"] == 0][\"keyword\"].value_counts()"
   ]
  },
  {
   "cell_type": "code",
   "execution_count": 12,
   "id": "17c6270f",
   "metadata": {
    "execution": {
     "iopub.execute_input": "2022-09-28T00:38:26.190035Z",
     "iopub.status.busy": "2022-09-28T00:38:26.189229Z",
     "iopub.status.idle": "2022-09-28T00:38:26.998818Z",
     "shell.execute_reply": "2022-09-28T00:38:26.996139Z"
    },
    "papermill": {
     "duration": 0.826258,
     "end_time": "2022-09-28T00:38:27.002461",
     "exception": false,
     "start_time": "2022-09-28T00:38:26.176203",
     "status": "completed"
    },
    "tags": []
   },
   "outputs": [
    {
     "data": {
      "image/png": "[encoded data removed]",
      "text/plain": [
       "<Figure size 1440x576 with 2 Axes>"
      ]
     },
     "metadata": {
      "needs_background": "light"
     },
     "output_type": "display_data"
    }
   ],
   "source": [
    "# plt.figure(figsize=(20,8))\n",
    "fig, ax = plt.subplots(1,2, figsize=(20,8))\n",
    "\n",
    "ax1 = sns.barplot(y=keywords_disaster[0:20].index, x=keywords_disaster[0:20], orient='h', ax=ax[0], palette=\"rocket\")\n",
    "for container in ax1.containers:\n",
    "    ax1.bar_label(container)\n",
    "ax[0].set_title(\"Top 20 Keywords - Disaster\",fontsize=20)\n",
    "ax[0].set_xlabel(\"Keyword Frequency\")\n",
    "\n",
    "ax2 = sns.barplot(y=keywords_not_disaster[0:20].index, x= keywords_not_disaster[0:20], orient='h', ax=ax[1], palette=\"viridis\")\n",
    "for container in ax2.containers:\n",
    "    ax2.bar_label(container)\n",
    "ax[1].set_title(\"Top 20 Keywords - Not Disaster\",fontsize=20)\n",
    "ax[1].set_xlabel(\"Keyword Frequency\")\n",
    "\n",
    "\n",
    "plt.show()"
   ]
  },
  {
   "cell_type": "markdown",
   "id": "e0b7d03b",
   "metadata": {
    "papermill": {
     "duration": 0.010298,
     "end_time": "2022-09-28T00:38:27.022778",
     "exception": false,
     "start_time": "2022-09-28T00:38:27.012480",
     "status": "completed"
    },
    "tags": []
   },
   "source": [
    "#### Tweet Length and Word Counts\n",
    "\n",
    "* Twitter has traditionally always had a hard limit of 140 character for tweets. Only a few years ago did they double the limit to 280."
   ]
  },
  {
   "cell_type": "code",
   "execution_count": 13,
   "id": "583e1a34",
   "metadata": {
    "execution": {
     "iopub.execute_input": "2022-09-28T00:38:27.045733Z",
     "iopub.status.busy": "2022-09-28T00:38:27.045284Z",
     "iopub.status.idle": "2022-09-28T00:38:27.071414Z",
     "shell.execute_reply": "2022-09-28T00:38:27.070040Z"
    },
    "papermill": {
     "duration": 0.042859,
     "end_time": "2022-09-28T00:38:27.075294",
     "exception": false,
     "start_time": "2022-09-28T00:38:27.032435",
     "status": "completed"
    },
    "tags": []
   },
   "outputs": [],
   "source": [
    "df_train[\"length\"] = df_train[\"text\"].str.len()\n",
    "df_train[\"word_count\"] = df_train[\"text\"].apply(lambda x: len(x.split()))"
   ]
  },
  {
   "cell_type": "code",
   "execution_count": 14,
   "id": "29d3646d",
   "metadata": {
    "execution": {
     "iopub.execute_input": "2022-09-28T00:38:27.099304Z",
     "iopub.status.busy": "2022-09-28T00:38:27.098723Z",
     "iopub.status.idle": "2022-09-28T00:38:27.113598Z",
     "shell.execute_reply": "2022-09-28T00:38:27.111663Z"
    },
    "papermill": {
     "duration": 0.030442,
     "end_time": "2022-09-28T00:38:27.116764",
     "exception": false,
     "start_time": "2022-09-28T00:38:27.086322",
     "status": "completed"
    },
    "tags": []
   },
   "outputs": [
    {
     "data": {
      "text/html": [
       "<div>\n",
       "<style scoped>\n",
       "    .dataframe tbody tr th:only-of-type {\n",
       "        vertical-align: middle;\n",
       "    }\n",
       "\n",
       "    .dataframe tbody tr th {\n",
       "        vertical-align: top;\n",
       "    }\n",
       "\n",
       "    .dataframe thead th {\n",
       "        text-align: right;\n",
       "    }\n",
       "</style>\n",
       "<table border=\"1\" class=\"dataframe\">\n",
       "  <thead>\n",
       "    <tr style=\"text-align: right;\">\n",
       "      <th></th>\n",
       "      <th>id</th>\n",
       "      <th>keyword</th>\n",
       "      <th>location</th>\n",
       "      <th>text</th>\n",
       "      <th>target</th>\n",
       "      <th>length</th>\n",
       "      <th>word_count</th>\n",
       "    </tr>\n",
       "  </thead>\n",
       "  <tbody>\n",
       "    <tr>\n",
       "      <th>0</th>\n",
       "      <td>1</td>\n",
       "      <td>NaN</td>\n",
       "      <td>NaN</td>\n",
       "      <td>Our Deeds are the Reason of this #earthquake M...</td>\n",
       "      <td>1</td>\n",
       "      <td>69</td>\n",
       "      <td>13</td>\n",
       "    </tr>\n",
       "    <tr>\n",
       "      <th>1</th>\n",
       "      <td>4</td>\n",
       "      <td>NaN</td>\n",
       "      <td>NaN</td>\n",
       "      <td>Forest fire near La Ronge Sask. Canada</td>\n",
       "      <td>1</td>\n",
       "      <td>38</td>\n",
       "      <td>7</td>\n",
       "    </tr>\n",
       "    <tr>\n",
       "      <th>2</th>\n",
       "      <td>5</td>\n",
       "      <td>NaN</td>\n",
       "      <td>NaN</td>\n",
       "      <td>All residents asked to 'shelter in place' are ...</td>\n",
       "      <td>1</td>\n",
       "      <td>133</td>\n",
       "      <td>22</td>\n",
       "    </tr>\n",
       "    <tr>\n",
       "      <th>3</th>\n",
       "      <td>6</td>\n",
       "      <td>NaN</td>\n",
       "      <td>NaN</td>\n",
       "      <td>13,000 people receive #wildfires evacuation or...</td>\n",
       "      <td>1</td>\n",
       "      <td>65</td>\n",
       "      <td>8</td>\n",
       "    </tr>\n",
       "    <tr>\n",
       "      <th>4</th>\n",
       "      <td>7</td>\n",
       "      <td>NaN</td>\n",
       "      <td>NaN</td>\n",
       "      <td>Just got sent this photo from Ruby #Alaska as ...</td>\n",
       "      <td>1</td>\n",
       "      <td>88</td>\n",
       "      <td>16</td>\n",
       "    </tr>\n",
       "  </tbody>\n",
       "</table>\n",
       "</div>"
      ],
      "text/plain": [
       "   id keyword location                                               text  \\\n",
       "0   1     NaN      NaN  Our Deeds are the Reason of this #earthquake M...   \n",
       "1   4     NaN      NaN             Forest fire near La Ronge Sask. Canada   \n",
       "2   5     NaN      NaN  All residents asked to 'shelter in place' are ...   \n",
       "3   6     NaN      NaN  13,000 people receive #wildfires evacuation or...   \n",
       "4   7     NaN      NaN  Just got sent this photo from Ruby #Alaska as ...   \n",
       "\n",
       "   target  length  word_count  \n",
       "0       1      69          13  \n",
       "1       1      38           7  \n",
       "2       1     133          22  \n",
       "3       1      65           8  \n",
       "4       1      88          16  "
      ]
     },
     "execution_count": 14,
     "metadata": {},
     "output_type": "execute_result"
    }
   ],
   "source": [
    "df_train.head()"
   ]
  },
  {
   "cell_type": "code",
   "execution_count": 15,
   "id": "ed3859f2",
   "metadata": {
    "execution": {
     "iopub.execute_input": "2022-09-28T00:38:27.137316Z",
     "iopub.status.busy": "2022-09-28T00:38:27.136926Z",
     "iopub.status.idle": "2022-09-28T00:38:27.534996Z",
     "shell.execute_reply": "2022-09-28T00:38:27.532142Z"
    },
    "papermill": {
     "duration": 0.411956,
     "end_time": "2022-09-28T00:38:27.538070",
     "exception": false,
     "start_time": "2022-09-28T00:38:27.126114",
     "status": "completed"
    },
    "tags": []
   },
   "outputs": [
    {
     "data": {
      "image/png": "[encoded data removed]",
      "text/plain": [
       "<Figure size 576x576 with 1 Axes>"
      ]
     },
     "metadata": {
      "needs_background": "light"
     },
     "output_type": "display_data"
    }
   ],
   "source": [
    "ax = sns.displot(df_train[\"length\"],bins=15,kde=True, height=8)\n",
    "ax.fig.suptitle('Distribution plot of tweet lengths')\n",
    "plt.show()"
   ]
  },
  {
   "cell_type": "code",
   "execution_count": 16,
   "id": "d11603e2",
   "metadata": {
    "execution": {
     "iopub.execute_input": "2022-09-28T00:38:27.566482Z",
     "iopub.status.busy": "2022-09-28T00:38:27.564473Z",
     "iopub.status.idle": "2022-09-28T00:38:27.585593Z",
     "shell.execute_reply": "2022-09-28T00:38:27.583055Z"
    },
    "papermill": {
     "duration": 0.039574,
     "end_time": "2022-09-28T00:38:27.589313",
     "exception": false,
     "start_time": "2022-09-28T00:38:27.549739",
     "status": "completed"
    },
    "tags": []
   },
   "outputs": [
    {
     "data": {
      "text/plain": [
       "count    7613.000000\n",
       "mean      101.037436\n",
       "std        33.781325\n",
       "min         7.000000\n",
       "25%        78.000000\n",
       "50%       107.000000\n",
       "75%       133.000000\n",
       "max       157.000000\n",
       "Name: length, dtype: float64"
      ]
     },
     "execution_count": 16,
     "metadata": {},
     "output_type": "execute_result"
    }
   ],
   "source": [
    "df_train['length'].describe()"
   ]
  },
  {
   "cell_type": "markdown",
   "id": "827c14eb",
   "metadata": {
    "papermill": {
     "duration": 0.012721,
     "end_time": "2022-09-28T00:38:27.613051",
     "exception": false,
     "start_time": "2022-09-28T00:38:27.600330",
     "status": "completed"
    },
    "tags": []
   },
   "source": [
    "* Average tweet length is 101 characters\n",
    "* Longest tweet is 157 characters long"
   ]
  },
  {
   "cell_type": "code",
   "execution_count": 17,
   "id": "5fa8c9bd",
   "metadata": {
    "execution": {
     "iopub.execute_input": "2022-09-28T00:38:27.638956Z",
     "iopub.status.busy": "2022-09-28T00:38:27.638236Z",
     "iopub.status.idle": "2022-09-28T00:38:27.993181Z",
     "shell.execute_reply": "2022-09-28T00:38:27.991939Z"
    },
    "papermill": {
     "duration": 0.370715,
     "end_time": "2022-09-28T00:38:27.995282",
     "exception": false,
     "start_time": "2022-09-28T00:38:27.624567",
     "status": "completed"
    },
    "tags": []
   },
   "outputs": [
    {
     "data": {
      "image/png": "[encoded data removed]",
      "text/plain": [
       "<Figure size 576x576 with 1 Axes>"
      ]
     },
     "metadata": {
      "needs_background": "light"
     },
     "output_type": "display_data"
    }
   ],
   "source": [
    "ax = sns.displot(df_train[\"word_count\"],bins=15,kde=True, height=8)\n",
    "ax.fig.suptitle('Distribution plot of word counts in tweets')\n",
    "plt.show()"
   ]
  },
  {
   "cell_type": "code",
   "execution_count": 18,
   "id": "e49b5b36",
   "metadata": {
    "execution": {
     "iopub.execute_input": "2022-09-28T00:38:28.020485Z",
     "iopub.status.busy": "2022-09-28T00:38:28.020001Z",
     "iopub.status.idle": "2022-09-28T00:38:28.037615Z",
     "shell.execute_reply": "2022-09-28T00:38:28.036073Z"
    },
    "papermill": {
     "duration": 0.034597,
     "end_time": "2022-09-28T00:38:28.041192",
     "exception": false,
     "start_time": "2022-09-28T00:38:28.006595",
     "status": "completed"
    },
    "tags": []
   },
   "outputs": [
    {
     "data": {
      "text/plain": [
       "count    7613.000000\n",
       "mean       14.903586\n",
       "std         5.732604\n",
       "min         1.000000\n",
       "25%        11.000000\n",
       "50%        15.000000\n",
       "75%        19.000000\n",
       "max        31.000000\n",
       "Name: word_count, dtype: float64"
      ]
     },
     "execution_count": 18,
     "metadata": {},
     "output_type": "execute_result"
    }
   ],
   "source": [
    "df_train['word_count'].describe()"
   ]
  },
  {
   "cell_type": "markdown",
   "id": "061335ca",
   "metadata": {
    "papermill": {
     "duration": 0.012265,
     "end_time": "2022-09-28T00:38:28.064474",
     "exception": false,
     "start_time": "2022-09-28T00:38:28.052209",
     "status": "completed"
    },
    "tags": []
   },
   "source": [
    "* Average number of words per tweet is approx 15\n",
    "* Max number of words per tweet is 31"
   ]
  },
  {
   "cell_type": "markdown",
   "id": "dcec1fa0",
   "metadata": {
    "papermill": {
     "duration": 0.011684,
     "end_time": "2022-09-28T00:38:28.087622",
     "exception": false,
     "start_time": "2022-09-28T00:38:28.075938",
     "status": "completed"
    },
    "tags": []
   },
   "source": [
    "### Preprocessing text for a ML Model\n",
    "\n",
    "Cleanup process:\n",
    "- Remove stopwords (from `nltk` library)\n",
    "- Apply a stemming algorithm (`Porter` from `nltk` library)\n",
    "- Remove punctuations\n",
    "- Since we're dealing with raw tweets data, we'll also remove any emojis using regex\n",
    "\n",
    "What is stemming?\n",
    "- Stemming is the process of reducing variants to a root word\n",
    "- For example: chocolates, chocolatey, choco can all be reduced to the same root word - `chocolate`"
   ]
  },
  {
   "cell_type": "code",
   "execution_count": null,
   "id": "13ea8e3c",
   "metadata": {
    "papermill": {
     "duration": 0.011601,
     "end_time": "2022-09-28T00:38:28.111249",
     "exception": false,
     "start_time": "2022-09-28T00:38:28.099648",
     "status": "completed"
    },
    "tags": []
   },
   "outputs": [],
   "source": []
  }
 ],
 "metadata": {
  "kernelspec": {
   "display_name": "Python 3",
   "language": "python",
   "name": "python3"
  },
  "language_info": {
   "codemirror_mode": {
    "name": "ipython",
    "version": 3
   },
   "file_extension": ".py",
   "mimetype": "text/x-python",
   "name": "python",
   "nbconvert_exporter": "python",
   "pygments_lexer": "ipython3",
   "version": "3.7.12"
  },
  "papermill": {
   "default_parameters": {},
   "duration": 19.948922,
   "end_time": "2022-09-28T00:38:29.255965",
   "environment_variables": {},
   "exception": null,
   "input_path": "__notebook__.ipynb",
   "output_path": "__notebook__.ipynb",
   "parameters": {},
   "start_time": "2022-09-28T00:38:09.307043",
   "version": "2.3.4"
  }
 },
 "nbformat": 4,
 "nbformat_minor": 5
}
